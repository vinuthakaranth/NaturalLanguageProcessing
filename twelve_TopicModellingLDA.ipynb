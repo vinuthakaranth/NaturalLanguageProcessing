{
 "cells": [
  {
   "cell_type": "code",
   "execution_count": 1,
   "metadata": {
    "collapsed": true
   },
   "outputs": [],
   "source": [
    "import nltk"
   ]
  },
  {
   "cell_type": "code",
   "execution_count": 2,
   "metadata": {},
   "outputs": [
    {
     "name": "stderr",
     "output_type": "stream",
     "text": [
      "C:\\Users\\vinut\\Anaconda3\\lib\\site-packages\\gensim\\utils.py:1197: UserWarning: detected Windows; aliasing chunkize to chunkize_serial\n",
      "  warnings.warn(\"detected Windows; aliasing chunkize to chunkize_serial\")\n"
     ]
    }
   ],
   "source": [
    "import gensim"
   ]
  },
  {
   "cell_type": "code",
   "execution_count": 3,
   "metadata": {
    "collapsed": true
   },
   "outputs": [],
   "source": [
    ">>> doc1 = \"Sugar is bad to consume. My sister likes to have sugar, but not my father.\"\n",
    ">>> doc2 = \"My father spends a lot of time driving my sister around to dance practice.\"\n",
    ">>> doc3 = \"Doctors suggest that driving may cause increased stress and blood pressure.\"\n",
    ">>> doc4 = \"Sometimes I feel pressure to perform well at school, but my father never seems to drive my sister to do better.\"\n",
    ">>> doc5 = \"Health experts say that Sugar is not good for your lifestyle.\"\n",
    ">>> doc_complete = [doc1, doc2, doc3, doc4, doc5]\n"
   ]
  },
  {
   "cell_type": "code",
   "execution_count": 4,
   "metadata": {
    "collapsed": true
   },
   "outputs": [],
   "source": [
    ">>> from nltk.corpus import stopwords\n",
    ">>> from nltk.stem.wordnet import WordNetLemmatizer\n",
    ">>> import string\n",
    ">>> stop = set(stopwords.words('english'))\n",
    ">>> exclude = set(string.punctuation)\n",
    ">>> lemma = WordNetLemmatizer()\n"
   ]
  },
  {
   "cell_type": "code",
   "execution_count": 5,
   "metadata": {},
   "outputs": [
    {
     "data": {
      "text/plain": [
       "[['Sugar', 'bad', 'consume', 'My', 'sister', 'like', 'sugar', 'father'],\n",
       " ['My',\n",
       "  'father',\n",
       "  'spends',\n",
       "  'lot',\n",
       "  'time',\n",
       "  'driving',\n",
       "  'sister',\n",
       "  'around',\n",
       "  'dance',\n",
       "  'practice'],\n",
       " ['Doctors',\n",
       "  'suggest',\n",
       "  'driving',\n",
       "  'may',\n",
       "  'cause',\n",
       "  'increased',\n",
       "  'stress',\n",
       "  'blood',\n",
       "  'pressure'],\n",
       " ['Sometimes',\n",
       "  'I',\n",
       "  'feel',\n",
       "  'pressure',\n",
       "  'perform',\n",
       "  'well',\n",
       "  'school',\n",
       "  'father',\n",
       "  'never',\n",
       "  'seems',\n",
       "  'drive',\n",
       "  'sister',\n",
       "  'better'],\n",
       " ['Health', 'expert', 'say', 'Sugar', 'good', 'lifestyle']]"
      ]
     },
     "execution_count": 5,
     "metadata": {},
     "output_type": "execute_result"
    }
   ],
   "source": [
    ">>> def clean(doc):\n",
    "...     tokens = nltk.word_tokenize(doc)\n",
    "...     stop_free = [word for word in tokens if word not in stop]\n",
    "...     punc_free = [word for word in stop_free if word not in exclude]\n",
    "...     normalized = [lemma.lemmatize(word) for word in punc_free]\n",
    "...     return normalized\n",
    "...\n",
    ">>> doc_clean = [clean(doc) for doc in doc_complete]\n",
    ">>> doc_clean\n"
   ]
  },
  {
   "cell_type": "code",
   "execution_count": 7,
   "metadata": {},
   "outputs": [],
   "source": [
    ">>> import gensim\n",
    ">>> from gensim import corpora\n",
    ">>> dictionary = corpora.Dictionary(doc_clean)\n",
    ">>> doc_term_matrix = [dictionary.doc2bow(doc) for doc in doc_clean]\n",
    ">>> lda = gensim.models.ldamodel.LdaModel\n",
    ">>> ldamodel = lda(doc_term_matrix, num_topics = 3, id2word = dictionary, passes = 50)\n",
    ">>> topics = ldamodel.print_topics(num_words = 3)\n"
   ]
  },
  {
   "cell_type": "code",
   "execution_count": 8,
   "metadata": {},
   "outputs": [
    {
     "name": "stdout",
     "output_type": "stream",
     "text": [
      "(0, '0.066*\"father\" + 0.066*\"sister\" + 0.037*\"My\"')\n",
      "(1, '0.065*\"Sugar\" + 0.037*\"may\" + 0.037*\"stress\"')\n",
      "(2, '0.026*\"My\" + 0.026*\"driving\" + 0.026*\"sister\"')\n"
     ]
    }
   ],
   "source": [
    ">>> for topic in topics:\n",
    "...     print(topic)\n",
    ">>> all_words = [word for doc in doc_clean for word in doc]\n",
    ">>> bow = dictionary.doc2bow(all_words)\n"
   ]
  },
  {
   "cell_type": "code",
   "execution_count": 9,
   "metadata": {
    "collapsed": true
   },
   "outputs": [],
   "source": [
    "all_words = [word for doc in doc_clean for word in doc]"
   ]
  },
  {
   "cell_type": "code",
   "execution_count": 10,
   "metadata": {
    "collapsed": true
   },
   "outputs": [],
   "source": [
    "bow = dictionary.doc2bow(all_words)"
   ]
  },
  {
   "cell_type": "code",
   "execution_count": null,
   "metadata": {
    "collapsed": true
   },
   "outputs": [],
   "source": []
  }
 ],
 "metadata": {
  "kernelspec": {
   "display_name": "Python 3",
   "language": "python",
   "name": "python3"
  },
  "language_info": {
   "codemirror_mode": {
    "name": "ipython",
    "version": 3
   },
   "file_extension": ".py",
   "mimetype": "text/x-python",
   "name": "python",
   "nbconvert_exporter": "python",
   "pygments_lexer": "ipython3",
   "version": "3.6.3"
  }
 },
 "nbformat": 4,
 "nbformat_minor": 2
}
